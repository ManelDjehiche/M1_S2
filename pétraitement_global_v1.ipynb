{
  "nbformat": 4,
  "nbformat_minor": 0,
  "metadata": {
    "colab": {
      "name": "pétraitement_global.ipynb",
      "provenance": [],
      "collapsed_sections": [],
      "include_colab_link": true
    },
    "kernelspec": {
      "name": "python3",
      "display_name": "Python 3"
    }
  },
  "cells": [
    {
      "cell_type": "markdown",
      "metadata": {
        "id": "view-in-github",
        "colab_type": "text"
      },
      "source": [
        "<a href=\"https://colab.research.google.com/github/ManelDjehiche/M1_S2/blob/master/p%C3%A9traitement_global_v1.ipynb\" target=\"_parent\"><img src=\"https://colab.research.google.com/assets/colab-badge.svg\" alt=\"Open In Colab\"/></a>"
      ]
    },
    {
      "cell_type": "code",
      "metadata": {
        "id": "O-BmauGAUrb8",
        "colab_type": "code",
        "outputId": "fc2f4d0e-413a-419c-eea3-98deabf4112a",
        "colab": {
          "base_uri": "https://localhost:8080/",
          "height": 85
        }
      },
      "source": [
        "import numpy as np\n",
        "import pandas as pd\n",
        "import nltk\n",
        "from nltk import re\n",
        "from nltk import defaultdict\n",
        "import io\n",
        "from nltk import  word_tokenize\n",
        "from nltk import  sent_tokenize\n",
        "from nltk.corpus import stopwords\n",
        "from nltk.stem import PorterStemmer\n",
        "import codecs\n",
        "import csv\n",
        "import pickle\n",
        "from googletrans import Translator\n",
        "from textblob import TextBlob \n",
        "from langdetect import detect\n",
        "import langid\n",
        "import nltk\n",
        "\n",
        "## élément a télécharger\n",
        "nltk.download('stopwords')\n",
        "nltk.download('punkt')\n",
        "! pip install -q googletrans"
      ],
      "execution_count": 81,
      "outputs": [
        {
          "output_type": "stream",
          "text": [
            "[nltk_data] Downloading package stopwords to /root/nltk_data...\n",
            "[nltk_data]   Package stopwords is already up-to-date!\n",
            "[nltk_data] Downloading package punkt to /root/nltk_data...\n",
            "[nltk_data]   Package punkt is already up-to-date!\n"
          ],
          "name": "stdout"
        }
      ]
    },
    {
      "cell_type": "code",
      "metadata": {
        "id": "8UrVUkvFHsY3",
        "colab_type": "code",
        "outputId": "d6114e70-47c5-4b62-8264-a462f984edfd",
        "colab": {
          "base_uri": "https://localhost:8080/",
          "height": 275
        }
      },
      "source": [
        "pip install googletrans"
      ],
      "execution_count": 0,
      "outputs": [
        {
          "output_type": "stream",
          "text": [
            "Collecting googletrans\n",
            "  Downloading https://files.pythonhosted.org/packages/fd/f0/a22d41d3846d1f46a4f20086141e0428ccc9c6d644aacbfd30990cf46886/googletrans-2.4.0.tar.gz\n",
            "Requirement already satisfied: requests in /usr/local/lib/python3.6/dist-packages (from googletrans) (2.21.0)\n",
            "Requirement already satisfied: chardet<3.1.0,>=3.0.2 in /usr/local/lib/python3.6/dist-packages (from requests->googletrans) (3.0.4)\n",
            "Requirement already satisfied: urllib3<1.25,>=1.21.1 in /usr/local/lib/python3.6/dist-packages (from requests->googletrans) (1.24.3)\n",
            "Requirement already satisfied: certifi>=2017.4.17 in /usr/local/lib/python3.6/dist-packages (from requests->googletrans) (2019.11.28)\n",
            "Requirement already satisfied: idna<2.9,>=2.5 in /usr/local/lib/python3.6/dist-packages (from requests->googletrans) (2.8)\n",
            "Building wheels for collected packages: googletrans\n",
            "  Building wheel for googletrans (setup.py) ... \u001b[?25l\u001b[?25hdone\n",
            "  Created wheel for googletrans: filename=googletrans-2.4.0-cp36-none-any.whl size=15776 sha256=81c5b956967da98935546728c61b770d1382c389551526ffd9ccd201b2515479\n",
            "  Stored in directory: /root/.cache/pip/wheels/50/d6/e7/a8efd5f2427d5eb258070048718fa56ee5ac57fd6f53505f95\n",
            "Successfully built googletrans\n",
            "Installing collected packages: googletrans\n",
            "Successfully installed googletrans-2.4.0\n"
          ],
          "name": "stdout"
        }
      ]
    },
    {
      "cell_type": "code",
      "metadata": {
        "id": "sv7M7cPrC3kh",
        "colab_type": "code",
        "outputId": "3e52eb2b-693d-43bf-8cf5-20366b84e582",
        "colab": {
          "base_uri": "https://localhost:8080/",
          "height": 224
        }
      },
      "source": [
        "pip install langdetect"
      ],
      "execution_count": 0,
      "outputs": [
        {
          "output_type": "stream",
          "text": [
            "Collecting langdetect\n",
            "\u001b[?25l  Downloading https://files.pythonhosted.org/packages/59/59/4bc44158a767a6d66de18c4136c8aa90491d56cc951c10b74dd1e13213c9/langdetect-1.0.7.zip (998kB)\n",
            "\r\u001b[K     |▎                               | 10kB 19.0MB/s eta 0:00:01\r\u001b[K     |▋                               | 20kB 7.5MB/s eta 0:00:01\r\u001b[K     |█                               | 30kB 8.4MB/s eta 0:00:01\r\u001b[K     |█▎                              | 40kB 6.5MB/s eta 0:00:01\r\u001b[K     |█▋                              | 51kB 6.9MB/s eta 0:00:01\r\u001b[K     |██                              | 61kB 8.0MB/s eta 0:00:01\r\u001b[K     |██▎                             | 71kB 8.3MB/s eta 0:00:01\r\u001b[K     |██▋                             | 81kB 8.0MB/s eta 0:00:01\r\u001b[K     |███                             | 92kB 8.9MB/s eta 0:00:01\r\u001b[K     |███▎                            | 102kB 9.3MB/s eta 0:00:01\r\u001b[K     |███▋                            | 112kB 9.3MB/s eta 0:00:01\r\u001b[K     |████                            | 122kB 9.3MB/s eta 0:00:01\r\u001b[K     |████▎                           | 133kB 9.3MB/s eta 0:00:01\r\u001b[K     |████▋                           | 143kB 9.3MB/s eta 0:00:01\r\u001b[K     |█████                           | 153kB 9.3MB/s eta 0:00:01\r\u001b[K     |█████▎                          | 163kB 9.3MB/s eta 0:00:01\r\u001b[K     |█████▋                          | 174kB 9.3MB/s eta 0:00:01\r\u001b[K     |██████                          | 184kB 9.3MB/s eta 0:00:01\r\u001b[K     |██████▎                         | 194kB 9.3MB/s eta 0:00:01\r\u001b[K     |██████▋                         | 204kB 9.3MB/s eta 0:00:01\r\u001b[K     |███████                         | 215kB 9.3MB/s eta 0:00:01\r\u001b[K     |███████▎                        | 225kB 9.3MB/s eta 0:00:01\r\u001b[K     |███████▌                        | 235kB 9.3MB/s eta 0:00:01\r\u001b[K     |███████▉                        | 245kB 9.3MB/s eta 0:00:01\r\u001b[K     |████████▏                       | 256kB 9.3MB/s eta 0:00:01\r\u001b[K     |████████▌                       | 266kB 9.3MB/s eta 0:00:01\r\u001b[K     |████████▉                       | 276kB 9.3MB/s eta 0:00:01\r\u001b[K     |█████████▏                      | 286kB 9.3MB/s eta 0:00:01\r\u001b[K     |█████████▌                      | 296kB 9.3MB/s eta 0:00:01\r\u001b[K     |█████████▉                      | 307kB 9.3MB/s eta 0:00:01\r\u001b[K     |██████████▏                     | 317kB 9.3MB/s eta 0:00:01\r\u001b[K     |██████████▌                     | 327kB 9.3MB/s eta 0:00:01\r\u001b[K     |██████████▉                     | 337kB 9.3MB/s eta 0:00:01\r\u001b[K     |███████████▏                    | 348kB 9.3MB/s eta 0:00:01\r\u001b[K     |███████████▌                    | 358kB 9.3MB/s eta 0:00:01\r\u001b[K     |███████████▉                    | 368kB 9.3MB/s eta 0:00:01\r\u001b[K     |████████████▏                   | 378kB 9.3MB/s eta 0:00:01\r\u001b[K     |████████████▌                   | 389kB 9.3MB/s eta 0:00:01\r\u001b[K     |████████████▉                   | 399kB 9.3MB/s eta 0:00:01\r\u001b[K     |█████████████▏                  | 409kB 9.3MB/s eta 0:00:01\r\u001b[K     |█████████████▌                  | 419kB 9.3MB/s eta 0:00:01\r\u001b[K     |█████████████▉                  | 430kB 9.3MB/s eta 0:00:01\r\u001b[K     |██████████████▏                 | 440kB 9.3MB/s eta 0:00:01\r\u001b[K     |██████████████▌                 | 450kB 9.3MB/s eta 0:00:01\r\u001b[K     |██████████████▊                 | 460kB 9.3MB/s eta 0:00:01\r\u001b[K     |███████████████                 | 471kB 9.3MB/s eta 0:00:01\r\u001b[K     |███████████████▍                | 481kB 9.3MB/s eta 0:00:01\r\u001b[K     |███████████████▊                | 491kB 9.3MB/s eta 0:00:01\r\u001b[K     |████████████████                | 501kB 9.3MB/s eta 0:00:01\r\u001b[K     |████████████████▍               | 512kB 9.3MB/s eta 0:00:01\r\u001b[K     |████████████████▊               | 522kB 9.3MB/s eta 0:00:01\r\u001b[K     |█████████████████               | 532kB 9.3MB/s eta 0:00:01\r\u001b[K     |█████████████████▍              | 542kB 9.3MB/s eta 0:00:01\r\u001b[K     |█████████████████▊              | 552kB 9.3MB/s eta 0:00:01\r\u001b[K     |██████████████████              | 563kB 9.3MB/s eta 0:00:01\r\u001b[K     |██████████████████▍             | 573kB 9.3MB/s eta 0:00:01\r\u001b[K     |██████████████████▊             | 583kB 9.3MB/s eta 0:00:01\r\u001b[K     |███████████████████             | 593kB 9.3MB/s eta 0:00:01\r\u001b[K     |███████████████████▍            | 604kB 9.3MB/s eta 0:00:01\r\u001b[K     |███████████████████▊            | 614kB 9.3MB/s eta 0:00:01\r\u001b[K     |████████████████████            | 624kB 9.3MB/s eta 0:00:01\r\u001b[K     |████████████████████▍           | 634kB 9.3MB/s eta 0:00:01\r\u001b[K     |████████████████████▊           | 645kB 9.3MB/s eta 0:00:01\r\u001b[K     |█████████████████████           | 655kB 9.3MB/s eta 0:00:01\r\u001b[K     |█████████████████████▍          | 665kB 9.3MB/s eta 0:00:01\r\u001b[K     |█████████████████████▊          | 675kB 9.3MB/s eta 0:00:01\r\u001b[K     |██████████████████████          | 686kB 9.3MB/s eta 0:00:01\r\u001b[K     |██████████████████████▎         | 696kB 9.3MB/s eta 0:00:01\r\u001b[K     |██████████████████████▋         | 706kB 9.3MB/s eta 0:00:01\r\u001b[K     |███████████████████████         | 716kB 9.3MB/s eta 0:00:01\r\u001b[K     |███████████████████████▎        | 727kB 9.3MB/s eta 0:00:01\r\u001b[K     |███████████████████████▋        | 737kB 9.3MB/s eta 0:00:01\r\u001b[K     |████████████████████████        | 747kB 9.3MB/s eta 0:00:01\r\u001b[K     |████████████████████████▎       | 757kB 9.3MB/s eta 0:00:01\r\u001b[K     |████████████████████████▋       | 768kB 9.3MB/s eta 0:00:01\r\u001b[K     |█████████████████████████       | 778kB 9.3MB/s eta 0:00:01\r\u001b[K     |█████████████████████████▎      | 788kB 9.3MB/s eta 0:00:01\r\u001b[K     |█████████████████████████▋      | 798kB 9.3MB/s eta 0:00:01\r\u001b[K     |██████████████████████████      | 808kB 9.3MB/s eta 0:00:01\r\u001b[K     |██████████████████████████▎     | 819kB 9.3MB/s eta 0:00:01\r\u001b[K     |██████████████████████████▋     | 829kB 9.3MB/s eta 0:00:01\r\u001b[K     |███████████████████████████     | 839kB 9.3MB/s eta 0:00:01\r\u001b[K     |███████████████████████████▎    | 849kB 9.3MB/s eta 0:00:01\r\u001b[K     |███████████████████████████▋    | 860kB 9.3MB/s eta 0:00:01\r\u001b[K     |████████████████████████████    | 870kB 9.3MB/s eta 0:00:01\r\u001b[K     |████████████████████████████▎   | 880kB 9.3MB/s eta 0:00:01\r\u001b[K     |████████████████████████████▋   | 890kB 9.3MB/s eta 0:00:01\r\u001b[K     |█████████████████████████████   | 901kB 9.3MB/s eta 0:00:01\r\u001b[K     |█████████████████████████████▏  | 911kB 9.3MB/s eta 0:00:01\r\u001b[K     |█████████████████████████████▌  | 921kB 9.3MB/s eta 0:00:01\r\u001b[K     |█████████████████████████████▉  | 931kB 9.3MB/s eta 0:00:01\r\u001b[K     |██████████████████████████████▏ | 942kB 9.3MB/s eta 0:00:01\r\u001b[K     |██████████████████████████████▌ | 952kB 9.3MB/s eta 0:00:01\r\u001b[K     |██████████████████████████████▉ | 962kB 9.3MB/s eta 0:00:01\r\u001b[K     |███████████████████████████████▏| 972kB 9.3MB/s eta 0:00:01\r\u001b[K     |███████████████████████████████▌| 983kB 9.3MB/s eta 0:00:01\r\u001b[K     |███████████████████████████████▉| 993kB 9.3MB/s eta 0:00:01\r\u001b[K     |████████████████████████████████| 1.0MB 9.3MB/s \n",
            "\u001b[?25hRequirement already satisfied: six in /usr/local/lib/python3.6/dist-packages (from langdetect) (1.12.0)\n",
            "Building wheels for collected packages: langdetect\n",
            "  Building wheel for langdetect (setup.py) ... \u001b[?25l\u001b[?25hdone\n",
            "  Created wheel for langdetect: filename=langdetect-1.0.7-cp36-none-any.whl size=993460 sha256=5a4083500777744c0ce6a5ae9e8012224773afa901611351a7d9faea0a97aa94\n",
            "  Stored in directory: /root/.cache/pip/wheels/ec/0c/a9/1647275e7ef5014e7b83ff30105180e332867d65e7617ddafe\n",
            "Successfully built langdetect\n",
            "Installing collected packages: langdetect\n",
            "Successfully installed langdetect-1.0.7\n"
          ],
          "name": "stdout"
        }
      ]
    },
    {
      "cell_type": "code",
      "metadata": {
        "id": "Bl8_AJh2DJQs",
        "colab_type": "code",
        "outputId": "a9c2a130-b1a5-4a6a-f207-b475f0f5e104",
        "colab": {
          "base_uri": "https://localhost:8080/",
          "height": 224
        }
      },
      "source": [
        "pip install langid"
      ],
      "execution_count": 0,
      "outputs": [
        {
          "output_type": "stream",
          "text": [
            "Collecting langid\n",
            "\u001b[?25l  Downloading https://files.pythonhosted.org/packages/ea/4c/0fb7d900d3b0b9c8703be316fbddffecdab23c64e1b46c7a83561d78bd43/langid-1.1.6.tar.gz (1.9MB)\n",
            "\r\u001b[K     |▏                               | 10kB 15.7MB/s eta 0:00:01\r\u001b[K     |▍                               | 20kB 6.7MB/s eta 0:00:01\r\u001b[K     |▌                               | 30kB 9.1MB/s eta 0:00:01\r\u001b[K     |▊                               | 40kB 5.9MB/s eta 0:00:01\r\u001b[K     |▉                               | 51kB 7.1MB/s eta 0:00:01\r\u001b[K     |█                               | 61kB 8.3MB/s eta 0:00:01\r\u001b[K     |█▏                              | 71kB 9.5MB/s eta 0:00:01\r\u001b[K     |█▍                              | 81kB 10.5MB/s eta 0:00:01\r\u001b[K     |█▌                              | 92kB 11.6MB/s eta 0:00:01\r\u001b[K     |█▊                              | 102kB 9.3MB/s eta 0:00:01\r\u001b[K     |█▉                              | 112kB 9.3MB/s eta 0:00:01\r\u001b[K     |██                              | 122kB 9.3MB/s eta 0:00:01\r\u001b[K     |██▏                             | 133kB 9.3MB/s eta 0:00:01\r\u001b[K     |██▍                             | 143kB 9.3MB/s eta 0:00:01\r\u001b[K     |██▌                             | 153kB 9.3MB/s eta 0:00:01\r\u001b[K     |██▊                             | 163kB 9.3MB/s eta 0:00:01\r\u001b[K     |███                             | 174kB 9.3MB/s eta 0:00:01\r\u001b[K     |███                             | 184kB 9.3MB/s eta 0:00:01\r\u001b[K     |███▎                            | 194kB 9.3MB/s eta 0:00:01\r\u001b[K     |███▍                            | 204kB 9.3MB/s eta 0:00:01\r\u001b[K     |███▋                            | 215kB 9.3MB/s eta 0:00:01\r\u001b[K     |███▊                            | 225kB 9.3MB/s eta 0:00:01\r\u001b[K     |████                            | 235kB 9.3MB/s eta 0:00:01\r\u001b[K     |████                            | 245kB 9.3MB/s eta 0:00:01\r\u001b[K     |████▎                           | 256kB 9.3MB/s eta 0:00:01\r\u001b[K     |████▍                           | 266kB 9.3MB/s eta 0:00:01\r\u001b[K     |████▋                           | 276kB 9.3MB/s eta 0:00:01\r\u001b[K     |████▊                           | 286kB 9.3MB/s eta 0:00:01\r\u001b[K     |█████                           | 296kB 9.3MB/s eta 0:00:01\r\u001b[K     |█████                           | 307kB 9.3MB/s eta 0:00:01\r\u001b[K     |█████▎                          | 317kB 9.3MB/s eta 0:00:01\r\u001b[K     |█████▍                          | 327kB 9.3MB/s eta 0:00:01\r\u001b[K     |█████▋                          | 337kB 9.3MB/s eta 0:00:01\r\u001b[K     |█████▉                          | 348kB 9.3MB/s eta 0:00:01\r\u001b[K     |██████                          | 358kB 9.3MB/s eta 0:00:01\r\u001b[K     |██████▏                         | 368kB 9.3MB/s eta 0:00:01\r\u001b[K     |██████▎                         | 378kB 9.3MB/s eta 0:00:01\r\u001b[K     |██████▌                         | 389kB 9.3MB/s eta 0:00:01\r\u001b[K     |██████▋                         | 399kB 9.3MB/s eta 0:00:01\r\u001b[K     |██████▉                         | 409kB 9.3MB/s eta 0:00:01\r\u001b[K     |███████                         | 419kB 9.3MB/s eta 0:00:01\r\u001b[K     |███████▏                        | 430kB 9.3MB/s eta 0:00:01\r\u001b[K     |███████▎                        | 440kB 9.3MB/s eta 0:00:01\r\u001b[K     |███████▌                        | 450kB 9.3MB/s eta 0:00:01\r\u001b[K     |███████▋                        | 460kB 9.3MB/s eta 0:00:01\r\u001b[K     |███████▉                        | 471kB 9.3MB/s eta 0:00:01\r\u001b[K     |████████                        | 481kB 9.3MB/s eta 0:00:01\r\u001b[K     |████████▏                       | 491kB 9.3MB/s eta 0:00:01\r\u001b[K     |████████▍                       | 501kB 9.3MB/s eta 0:00:01\r\u001b[K     |████████▌                       | 512kB 9.3MB/s eta 0:00:01\r\u001b[K     |████████▊                       | 522kB 9.3MB/s eta 0:00:01\r\u001b[K     |████████▉                       | 532kB 9.3MB/s eta 0:00:01\r\u001b[K     |█████████                       | 542kB 9.3MB/s eta 0:00:01\r\u001b[K     |█████████▏                      | 552kB 9.3MB/s eta 0:00:01\r\u001b[K     |█████████▍                      | 563kB 9.3MB/s eta 0:00:01\r\u001b[K     |█████████▌                      | 573kB 9.3MB/s eta 0:00:01\r\u001b[K     |█████████▊                      | 583kB 9.3MB/s eta 0:00:01\r\u001b[K     |█████████▉                      | 593kB 9.3MB/s eta 0:00:01\r\u001b[K     |██████████                      | 604kB 9.3MB/s eta 0:00:01\r\u001b[K     |██████████▏                     | 614kB 9.3MB/s eta 0:00:01\r\u001b[K     |██████████▍                     | 624kB 9.3MB/s eta 0:00:01\r\u001b[K     |██████████▌                     | 634kB 9.3MB/s eta 0:00:01\r\u001b[K     |██████████▊                     | 645kB 9.3MB/s eta 0:00:01\r\u001b[K     |██████████▉                     | 655kB 9.3MB/s eta 0:00:01\r\u001b[K     |███████████                     | 665kB 9.3MB/s eta 0:00:01\r\u001b[K     |███████████▎                    | 675kB 9.3MB/s eta 0:00:01\r\u001b[K     |███████████▍                    | 686kB 9.3MB/s eta 0:00:01\r\u001b[K     |███████████▋                    | 696kB 9.3MB/s eta 0:00:01\r\u001b[K     |███████████▊                    | 706kB 9.3MB/s eta 0:00:01\r\u001b[K     |████████████                    | 716kB 9.3MB/s eta 0:00:01\r\u001b[K     |████████████                    | 727kB 9.3MB/s eta 0:00:01\r\u001b[K     |████████████▎                   | 737kB 9.3MB/s eta 0:00:01\r\u001b[K     |████████████▍                   | 747kB 9.3MB/s eta 0:00:01\r\u001b[K     |████████████▋                   | 757kB 9.3MB/s eta 0:00:01\r\u001b[K     |████████████▊                   | 768kB 9.3MB/s eta 0:00:01\r\u001b[K     |█████████████                   | 778kB 9.3MB/s eta 0:00:01\r\u001b[K     |█████████████                   | 788kB 9.3MB/s eta 0:00:01\r\u001b[K     |█████████████▎                  | 798kB 9.3MB/s eta 0:00:01\r\u001b[K     |█████████████▍                  | 808kB 9.3MB/s eta 0:00:01\r\u001b[K     |█████████████▋                  | 819kB 9.3MB/s eta 0:00:01\r\u001b[K     |█████████████▉                  | 829kB 9.3MB/s eta 0:00:01\r\u001b[K     |██████████████                  | 839kB 9.3MB/s eta 0:00:01\r\u001b[K     |██████████████▏                 | 849kB 9.3MB/s eta 0:00:01\r\u001b[K     |██████████████▎                 | 860kB 9.3MB/s eta 0:00:01\r\u001b[K     |██████████████▌                 | 870kB 9.3MB/s eta 0:00:01\r\u001b[K     |██████████████▋                 | 880kB 9.3MB/s eta 0:00:01\r\u001b[K     |██████████████▉                 | 890kB 9.3MB/s eta 0:00:01\r\u001b[K     |███████████████                 | 901kB 9.3MB/s eta 0:00:01\r\u001b[K     |███████████████▏                | 911kB 9.3MB/s eta 0:00:01\r\u001b[K     |███████████████▎                | 921kB 9.3MB/s eta 0:00:01\r\u001b[K     |███████████████▌                | 931kB 9.3MB/s eta 0:00:01\r\u001b[K     |███████████████▋                | 942kB 9.3MB/s eta 0:00:01\r\u001b[K     |███████████████▉                | 952kB 9.3MB/s eta 0:00:01\r\u001b[K     |████████████████                | 962kB 9.3MB/s eta 0:00:01\r\u001b[K     |████████████████▏               | 972kB 9.3MB/s eta 0:00:01\r\u001b[K     |████████████████▎               | 983kB 9.3MB/s eta 0:00:01\r\u001b[K     |████████████████▌               | 993kB 9.3MB/s eta 0:00:01\r\u001b[K     |████████████████▊               | 1.0MB 9.3MB/s eta 0:00:01\r\u001b[K     |████████████████▉               | 1.0MB 9.3MB/s eta 0:00:01\r\u001b[K     |█████████████████               | 1.0MB 9.3MB/s eta 0:00:01\r\u001b[K     |█████████████████▏              | 1.0MB 9.3MB/s eta 0:00:01\r\u001b[K     |█████████████████▍              | 1.0MB 9.3MB/s eta 0:00:01\r\u001b[K     |█████████████████▌              | 1.1MB 9.3MB/s eta 0:00:01\r\u001b[K     |█████████████████▊              | 1.1MB 9.3MB/s eta 0:00:01\r\u001b[K     |█████████████████▉              | 1.1MB 9.3MB/s eta 0:00:01\r\u001b[K     |██████████████████              | 1.1MB 9.3MB/s eta 0:00:01\r\u001b[K     |██████████████████▏             | 1.1MB 9.3MB/s eta 0:00:01\r\u001b[K     |██████████████████▍             | 1.1MB 9.3MB/s eta 0:00:01\r\u001b[K     |██████████████████▌             | 1.1MB 9.3MB/s eta 0:00:01\r\u001b[K     |██████████████████▊             | 1.1MB 9.3MB/s eta 0:00:01\r\u001b[K     |██████████████████▉             | 1.1MB 9.3MB/s eta 0:00:01\r\u001b[K     |███████████████████             | 1.1MB 9.3MB/s eta 0:00:01\r\u001b[K     |███████████████████▎            | 1.2MB 9.3MB/s eta 0:00:01\r\u001b[K     |███████████████████▍            | 1.2MB 9.3MB/s eta 0:00:01\r\u001b[K     |███████████████████▋            | 1.2MB 9.3MB/s eta 0:00:01\r\u001b[K     |███████████████████▊            | 1.2MB 9.3MB/s eta 0:00:01\r\u001b[K     |████████████████████            | 1.2MB 9.3MB/s eta 0:00:01\r\u001b[K     |████████████████████            | 1.2MB 9.3MB/s eta 0:00:01\r\u001b[K     |████████████████████▎           | 1.2MB 9.3MB/s eta 0:00:01\r\u001b[K     |████████████████████▍           | 1.2MB 9.3MB/s eta 0:00:01\r\u001b[K     |████████████████████▋           | 1.2MB 9.3MB/s eta 0:00:01\r\u001b[K     |████████████████████▊           | 1.2MB 9.3MB/s eta 0:00:01\r\u001b[K     |█████████████████████           | 1.3MB 9.3MB/s eta 0:00:01\r\u001b[K     |█████████████████████           | 1.3MB 9.3MB/s eta 0:00:01\r\u001b[K     |█████████████████████▎          | 1.3MB 9.3MB/s eta 0:00:01\r\u001b[K     |█████████████████████▍          | 1.3MB 9.3MB/s eta 0:00:01\r\u001b[K     |█████████████████████▋          | 1.3MB 9.3MB/s eta 0:00:01\r\u001b[K     |█████████████████████▊          | 1.3MB 9.3MB/s eta 0:00:01\r\u001b[K     |██████████████████████          | 1.3MB 9.3MB/s eta 0:00:01\r\u001b[K     |██████████████████████▏         | 1.3MB 9.3MB/s eta 0:00:01\r\u001b[K     |██████████████████████▎         | 1.3MB 9.3MB/s eta 0:00:01\r\u001b[K     |██████████████████████▌         | 1.4MB 9.3MB/s eta 0:00:01\r\u001b[K     |██████████████████████▋         | 1.4MB 9.3MB/s eta 0:00:01\r\u001b[K     |██████████████████████▉         | 1.4MB 9.3MB/s eta 0:00:01\r\u001b[K     |███████████████████████         | 1.4MB 9.3MB/s eta 0:00:01\r\u001b[K     |███████████████████████▏        | 1.4MB 9.3MB/s eta 0:00:01\r\u001b[K     |███████████████████████▎        | 1.4MB 9.3MB/s eta 0:00:01\r\u001b[K     |███████████████████████▌        | 1.4MB 9.3MB/s eta 0:00:01\r\u001b[K     |███████████████████████▋        | 1.4MB 9.3MB/s eta 0:00:01\r\u001b[K     |███████████████████████▉        | 1.4MB 9.3MB/s eta 0:00:01\r\u001b[K     |████████████████████████        | 1.4MB 9.3MB/s eta 0:00:01\r\u001b[K     |████████████████████████▏       | 1.5MB 9.3MB/s eta 0:00:01\r\u001b[K     |████████████████████████▎       | 1.5MB 9.3MB/s eta 0:00:01\r\u001b[K     |████████████████████████▌       | 1.5MB 9.3MB/s eta 0:00:01\r\u001b[K     |████████████████████████▊       | 1.5MB 9.3MB/s eta 0:00:01\r\u001b[K     |████████████████████████▉       | 1.5MB 9.3MB/s eta 0:00:01\r\u001b[K     |█████████████████████████       | 1.5MB 9.3MB/s eta 0:00:01\r\u001b[K     |█████████████████████████▏      | 1.5MB 9.3MB/s eta 0:00:01\r\u001b[K     |█████████████████████████▍      | 1.5MB 9.3MB/s eta 0:00:01\r\u001b[K     |█████████████████████████▌      | 1.5MB 9.3MB/s eta 0:00:01\r\u001b[K     |█████████████████████████▊      | 1.5MB 9.3MB/s eta 0:00:01\r\u001b[K     |█████████████████████████▉      | 1.6MB 9.3MB/s eta 0:00:01\r\u001b[K     |██████████████████████████      | 1.6MB 9.3MB/s eta 0:00:01\r\u001b[K     |██████████████████████████▏     | 1.6MB 9.3MB/s eta 0:00:01\r\u001b[K     |██████████████████████████▍     | 1.6MB 9.3MB/s eta 0:00:01\r\u001b[K     |██████████████████████████▌     | 1.6MB 9.3MB/s eta 0:00:01\r\u001b[K     |██████████████████████████▊     | 1.6MB 9.3MB/s eta 0:00:01\r\u001b[K     |██████████████████████████▉     | 1.6MB 9.3MB/s eta 0:00:01\r\u001b[K     |███████████████████████████     | 1.6MB 9.3MB/s eta 0:00:01\r\u001b[K     |███████████████████████████▏    | 1.6MB 9.3MB/s eta 0:00:01\r\u001b[K     |███████████████████████████▍    | 1.6MB 9.3MB/s eta 0:00:01\r\u001b[K     |███████████████████████████▋    | 1.7MB 9.3MB/s eta 0:00:01\r\u001b[K     |███████████████████████████▊    | 1.7MB 9.3MB/s eta 0:00:01\r\u001b[K     |████████████████████████████    | 1.7MB 9.3MB/s eta 0:00:01\r\u001b[K     |████████████████████████████    | 1.7MB 9.3MB/s eta 0:00:01\r\u001b[K     |████████████████████████████▎   | 1.7MB 9.3MB/s eta 0:00:01\r\u001b[K     |████████████████████████████▍   | 1.7MB 9.3MB/s eta 0:00:01\r\u001b[K     |████████████████████████████▋   | 1.7MB 9.3MB/s eta 0:00:01\r\u001b[K     |████████████████████████████▊   | 1.7MB 9.3MB/s eta 0:00:01\r\u001b[K     |█████████████████████████████   | 1.7MB 9.3MB/s eta 0:00:01\r\u001b[K     |█████████████████████████████   | 1.8MB 9.3MB/s eta 0:00:01\r\u001b[K     |█████████████████████████████▎  | 1.8MB 9.3MB/s eta 0:00:01\r\u001b[K     |█████████████████████████████▍  | 1.8MB 9.3MB/s eta 0:00:01\r\u001b[K     |█████████████████████████████▋  | 1.8MB 9.3MB/s eta 0:00:01\r\u001b[K     |█████████████████████████████▊  | 1.8MB 9.3MB/s eta 0:00:01\r\u001b[K     |██████████████████████████████  | 1.8MB 9.3MB/s eta 0:00:01\r\u001b[K     |██████████████████████████████▏ | 1.8MB 9.3MB/s eta 0:00:01\r\u001b[K     |██████████████████████████████▎ | 1.8MB 9.3MB/s eta 0:00:01\r\u001b[K     |██████████████████████████████▌ | 1.8MB 9.3MB/s eta 0:00:01\r\u001b[K     |██████████████████████████████▋ | 1.8MB 9.3MB/s eta 0:00:01\r\u001b[K     |██████████████████████████████▉ | 1.9MB 9.3MB/s eta 0:00:01\r\u001b[K     |███████████████████████████████ | 1.9MB 9.3MB/s eta 0:00:01\r\u001b[K     |███████████████████████████████▏| 1.9MB 9.3MB/s eta 0:00:01\r\u001b[K     |███████████████████████████████▎| 1.9MB 9.3MB/s eta 0:00:01\r\u001b[K     |███████████████████████████████▌| 1.9MB 9.3MB/s eta 0:00:01\r\u001b[K     |███████████████████████████████▋| 1.9MB 9.3MB/s eta 0:00:01\r\u001b[K     |███████████████████████████████▉| 1.9MB 9.3MB/s eta 0:00:01\r\u001b[K     |████████████████████████████████| 1.9MB 9.3MB/s eta 0:00:01\r\u001b[K     |████████████████████████████████| 1.9MB 9.3MB/s \n",
            "\u001b[?25hRequirement already satisfied: numpy in /usr/local/lib/python3.6/dist-packages (from langid) (1.17.4)\n",
            "Building wheels for collected packages: langid\n",
            "  Building wheel for langid (setup.py) ... \u001b[?25l\u001b[?25hdone\n",
            "  Created wheel for langid: filename=langid-1.1.6-cp36-none-any.whl size=1941190 sha256=56704dbdf769cc06ca04c73a8f68e1820465884e97062bce4abd46856a938e97\n",
            "  Stored in directory: /root/.cache/pip/wheels/29/bc/61/50a93be85d1afe9436c3dc61f38da8ad7b637a38af4824e86e\n",
            "Successfully built langid\n",
            "Installing collected packages: langid\n",
            "Successfully installed langid-1.1.6\n"
          ],
          "name": "stdout"
        }
      ]
    },
    {
      "cell_type": "code",
      "metadata": {
        "id": "91f9axu8DPgl",
        "colab_type": "code",
        "outputId": "7025f39a-a086-43e0-b591-13a118e56363",
        "colab": {
          "base_uri": "https://localhost:8080/",
          "height": 275
        }
      },
      "source": [
        "pip install googletrans"
      ],
      "execution_count": 0,
      "outputs": [
        {
          "output_type": "stream",
          "text": [
            "Collecting googletrans\n",
            "  Downloading https://files.pythonhosted.org/packages/fd/f0/a22d41d3846d1f46a4f20086141e0428ccc9c6d644aacbfd30990cf46886/googletrans-2.4.0.tar.gz\n",
            "Requirement already satisfied: requests in /usr/local/lib/python3.6/dist-packages (from googletrans) (2.21.0)\n",
            "Requirement already satisfied: urllib3<1.25,>=1.21.1 in /usr/local/lib/python3.6/dist-packages (from requests->googletrans) (1.24.3)\n",
            "Requirement already satisfied: certifi>=2017.4.17 in /usr/local/lib/python3.6/dist-packages (from requests->googletrans) (2019.11.28)\n",
            "Requirement already satisfied: idna<2.9,>=2.5 in /usr/local/lib/python3.6/dist-packages (from requests->googletrans) (2.8)\n",
            "Requirement already satisfied: chardet<3.1.0,>=3.0.2 in /usr/local/lib/python3.6/dist-packages (from requests->googletrans) (3.0.4)\n",
            "Building wheels for collected packages: googletrans\n",
            "  Building wheel for googletrans (setup.py) ... \u001b[?25l\u001b[?25hdone\n",
            "  Created wheel for googletrans: filename=googletrans-2.4.0-cp36-none-any.whl size=15776 sha256=041cd6dd1d8378f70ee45926474f4ed56f263520921fb3386a66f68188016b7e\n",
            "  Stored in directory: /root/.cache/pip/wheels/50/d6/e7/a8efd5f2427d5eb258070048718fa56ee5ac57fd6f53505f95\n",
            "Successfully built googletrans\n",
            "Installing collected packages: googletrans\n",
            "Successfully installed googletrans-2.4.0\n"
          ],
          "name": "stdout"
        }
      ]
    },
    {
      "cell_type": "markdown",
      "metadata": {
        "id": "bRw7A2eFHwI5",
        "colab_type": "text"
      },
      "source": [
        "#<b> I) Traitement Initiale (noise removal)<b>\n",
        "nous avons choisir d'eleminer le noise en utilisant les chaine de caractere pour faciliter la tache en utilisant les expression reguliere."
      ]
    },
    {
      "cell_type": "markdown",
      "metadata": {
        "id": "-jPH_TqjIcr6",
        "colab_type": "text"
      },
      "source": [
        "##<b> 1 Suppression des doublants :\"instances\"<b>"
      ]
    },
    {
      "cell_type": "code",
      "metadata": {
        "id": "EPsCIKdaGbS7",
        "colab_type": "code",
        "colab": {}
      },
      "source": [
        ""
      ],
      "execution_count": 0,
      "outputs": []
    },
    {
      "cell_type": "markdown",
      "metadata": {
        "id": "lhFBx3TU_K6X",
        "colab_type": "text"
      },
      "source": [
        "# **2 Supression des urls** "
      ]
    },
    {
      "cell_type": "code",
      "metadata": {
        "id": "R-6hX-mb_QTZ",
        "colab_type": "code",
        "colab": {}
      },
      "source": [
        "def romve_urls(text):\n",
        "  return re.sub(r'\\w+:\\/{2}[\\d\\w-]+(\\.[\\d\\w-]+)*(?:(?:\\/[^\\s/]*))*', '', text)\n",
        "  \n",
        "  \n",
        "def remove_tags(text):\n",
        "  return re.sub(r\"@(\\w+|_|\\.)*\", ' ', text, flags=re.MULTILINE)\n",
        "  \n",
        "\n",
        "def remove_hashtag(text):\n",
        "  return re.sub(r\"#(\\w+|_)*\", ' ', text, flags=re.MULTILINE)\n",
        " \n"
      ],
      "execution_count": 0,
      "outputs": []
    },
    {
      "cell_type": "markdown",
      "metadata": {
        "id": "nSgaQ1zLJvyn",
        "colab_type": "text"
      },
      "source": [
        "##<b> 3 Suppression des lettres répétées + conversion em miniscule<b>"
      ]
    },
    {
      "cell_type": "code",
      "metadata": {
        "id": "1Eax14M9J6xl",
        "colab_type": "code",
        "outputId": "45dc0f4e-6c0e-4cd4-e7dd-453f23aa36c6",
        "colab": {
          "base_uri": "https://localhost:8080/",
          "height": 34
        }
      },
      "source": [
        "def remove_repeating_char(text):\n",
        "  lower_word=text.lower()\n",
        "  return  re.sub(r'(.)\\1+', r'\\1',lower_word) \n",
        "\n",
        "remove_repeating_char(\"hhehfdkhf     ?!! !!!!!! ?   heyyyyyybb wch rekkiiiiii حلوووووووووة ;bjj fhyebz'gkgk aujourd'uii kgkgk :) ndjfhdjfh :( edj <::\")"
      ],
      "execution_count": 117,
      "outputs": [
        {
          "output_type": "execute_result",
          "data": {
            "text/plain": [
              "\"hehfdkhf ?! ! ? heyb wch reki حلوة ;bj fhyebz'gkgk aujourd'ui kgkgk :) ndjfhdjfh :( edj <:\""
            ]
          },
          "metadata": {
            "tags": []
          },
          "execution_count": 117
        }
      ]
    },
    {
      "cell_type": "markdown",
      "metadata": {
        "id": "t1Zi61eqJ7yV",
        "colab_type": "text"
      },
      "source": [
        "##<b>4 Suppression de la ponctuation + Imoji<b> \"FIHA PBLM LOOK EXP\""
      ]
    },
    {
      "cell_type": "code",
      "metadata": {
        "id": "8-CFgB5cKJJI",
        "colab_type": "code",
        "colab": {}
      },
      "source": [
        "def remove_ponctuation_imogi(text):\n",
        "   puncts = [',', '.', '\"', ':', ')', '(', '-', '|', ';', \"'\", '$', '&', '/', '[', ']', '>', '%', '=', '#', '*', '+', '\\\\', '•',  '~', '£', \n",
        " '·', '_', '{', '}', '©', '^', '®', '`',  '<', '→', '°', '€', '™', '›',  '♥', '←', '×', '§', '″', '′', 'Â', '█', '½', 'à', '…', \n",
        " '“', '★', '”', '–', '●', 'â', '►', '−', '¢', '²', '¬', '░', '¶', '↑', '±', '¿', '▾', '═', '¦', '║', '―', '¥', '▓', '—', '‹', '─', \n",
        " '▒', '：', '¼', '⊕', '▼', '▪', '†', '■', '’', '▀', '¨', '▄', '♫', '☆', 'é', '¯', '♦', '¤', '▲', 'è', '¸', '¾', 'Ã', '⋅', '‘', '∞', \n",
        " '∙', '）', '↓', '、', '│', '（', '»', '，', '♪', '╩', '╚', '³', '・', '╦', '╣', '╔', '╗',' ️�','▬', '❤', 'ï', 'Ø', '¹', '≤', '‡', '√', ]\n",
        "   \n",
        "   x = str(text)\n",
        "   for punct in puncts:\n",
        "      if punct in x:\n",
        "          x = x.replace(punct, f' ')\n",
        "   return x\n",
        "   "
      ],
      "execution_count": 0,
      "outputs": []
    },
    {
      "cell_type": "markdown",
      "metadata": {
        "id": "1y1xxrwZKinM",
        "colab_type": "text"
      },
      "source": [
        "##<b> 5 Suppression des Chiffres isolés<b>"
      ]
    },
    {
      "cell_type": "code",
      "metadata": {
        "id": "utkn7KG7LCgr",
        "colab_type": "code",
        "colab": {}
      },
      "source": [
        "def remove_numbers(text):\n",
        "  return  re.sub(r\"\\b[0-9]+\\b\", \" \",text)"
      ],
      "execution_count": 0,
      "outputs": []
    },
    {
      "cell_type": "code",
      "metadata": {
        "id": "Cdpn8LgtshyB",
        "colab_type": "code",
        "outputId": "811e2ccc-51a6-4e28-8d4b-1f288a466593",
        "colab": {
          "base_uri": "https://localhost:8080/",
          "height": 34
        }
      },
      "source": [
        "from gensim.parsing.preprocessing import strip_short\n",
        "def remove_short(text):\n",
        "  return  strip_short(text,minsize=2)\n",
        " \n",
        "print(remove_short(\"!!!!!! ?  p j heyyyyyybb wch rekkiiiiii حلوووووووووة ;bjj fhyebz'gkgk \")) # all word having length<3"
      ],
      "execution_count": 120,
      "outputs": [
        {
          "output_type": "stream",
          "text": [
            "!!!!!! heyyyyyybb wch rekkiiiiii حلوووووووووة ;bjj fhyebz'gkgk\n"
          ],
          "name": "stdout"
        }
      ]
    },
    {
      "cell_type": "markdown",
      "metadata": {
        "id": "Y9vlh4CQIj5i",
        "colab_type": "text"
      },
      "source": [
        "##<b> 6 Tokenization<b> \n"
      ]
    },
    {
      "cell_type": "code",
      "metadata": {
        "id": "AHiy7tSyXIq5",
        "colab_type": "code",
        "colab": {}
      },
      "source": [
        "def tokenization(text):\n",
        "    return set(word_tokenize(text))"
      ],
      "execution_count": 0,
      "outputs": []
    },
    {
      "cell_type": "markdown",
      "metadata": {
        "id": "gZHZHw9t1Jco",
        "colab_type": "text"
      },
      "source": [
        "> <b>remarque</b>: on covertie en miniscule pour identifier la letter h et H dans \"whhhHHO\"  comme étant la méme lettere "
      ]
    },
    {
      "cell_type": "markdown",
      "metadata": {
        "id": "ACL3vYeMKawl",
        "colab_type": "text"
      },
      "source": [
        "##<b> 7 Suppression des Stop words se fait apres la traduction et la tansliteration sur le text arabe <b>\n",
        "\n"
      ]
    },
    {
      "cell_type": "code",
      "metadata": {
        "id": "lWqfRJT8Kfo4",
        "colab_type": "code",
        "colab": {}
      },
      "source": [
        "# importer la liste desstop word:/content/drive/My Drive/pfeCoding/stopwrd.txt\n",
        "def check_utf8(filename):\n",
        "        try:\n",
        "            f = codecs.open(filename, encoding='utf-8', errors='strict')\n",
        "            for line in f:\n",
        "                pass\n",
        "            return 1 #valid utf_8\n",
        "        except UnicodeDecodeError:\n",
        "            return 0 #invalid utf_8\n",
        "def open_txt_file(chemin):\n",
        "    #open text file atfter checking if its utf_8  encoding    \n",
        "    check=check_utf8(chemin)\n",
        "    if(check == 1):\n",
        "        f = io.open(chemin,'r',encoding='utf8')\n",
        "    elif(check == 0):\n",
        "        f = io.open(chemin,'r')\n",
        "    return f.read()\n",
        "\n",
        "def text_to_list(chemin):\n",
        "    text=open_txt_file(chemin)\n",
        "    liste=[]\n",
        "    liste=text.split(\"\\n\")\n",
        "    return liste\n",
        "\n",
        "#load stop words arabic from Descktop\n",
        "url=\"/content/drive/My Drive/pfeCoding/stopwrd.txt\"\n",
        "dataa= text_to_list(url)\n",
        "def remove_stop_words(tokens):\n",
        "  filtered_sentenc = [w for w in tokens if not w in stopwords.words('english')]\n",
        "  filtered_sentence = [w for w in filtered_sentenc if not w in stopwords.words('french')]\n",
        "  good_words = [w for w in filtered_sentence if not w in dataa]\n",
        "\n",
        "  return good_words"
      ],
      "execution_count": 0,
      "outputs": []
    },
    {
      "cell_type": "markdown",
      "metadata": {
        "id": "sb37k1_aO6bQ",
        "colab_type": "text"
      },
      "source": [
        "#<b> II) Traitement de la langue<b>"
      ]
    },
    {
      "cell_type": "markdown",
      "metadata": {
        "id": "YP7W2YWXPEfV",
        "colab_type": "text"
      },
      "source": [
        "##<b> 1-  dentification des mots Français<b>"
      ]
    },
    {
      "cell_type": "code",
      "metadata": {
        "id": "wh0C6WBUPm6A",
        "colab_type": "code",
        "outputId": "13302062-e5d9-4ed3-c6fa-46ab097b8f85",
        "colab": {
          "base_uri": "https://localhost:8080/",
          "height": 34
        }
      },
      "source": [
        "def detect_lang(word):\n",
        "  translator = Translator()\n",
        "  idf=translator.detect(word).lang\n",
        "  if (idf=='fr'):\n",
        "    return True \n",
        "  else:\n",
        "    return False\n",
        "\n",
        "#pip install textblob\n",
        "def textblob(text):\n",
        "    if(TextBlob(u\"fait\").detect_language() == 'fr'):\n",
        "        return True\n",
        "    else:\n",
        "        return False\n",
        "    \n",
        "\n",
        "#pip install langdetect\n",
        "def langdetect(text):\n",
        "    if(detect(text) == 'fr'):\n",
        "        return True\n",
        "    else:\n",
        "        return False\n",
        "  \n",
        "detect_lang('soeur')"
      ],
      "execution_count": 0,
      "outputs": [
        {
          "output_type": "execute_result",
          "data": {
            "text/plain": [
              "True"
            ]
          },
          "metadata": {
            "tags": []
          },
          "execution_count": 32
        }
      ]
    },
    {
      "cell_type": "markdown",
      "metadata": {
        "id": "MCLzOW80zuhz",
        "colab_type": "text"
      },
      "source": [
        "# **2- Google translate API**"
      ]
    },
    {
      "cell_type": "code",
      "metadata": {
        "id": "pIskzjSqQj26",
        "colab_type": "code",
        "outputId": "31a63c74-b295-4e2c-dc79-887fbf10978d",
        "colab": {
          "base_uri": "https://localhost:8080/",
          "height": 51
        }
      },
      "source": [
        "def translation_ar(string):\n",
        "    translator = Translator(service_urls=[\n",
        "      'translate.google.com'\n",
        "    ])\n",
        "    translations =translator.translate(string , dest='ar')\n",
        "    print( translations.origin,' -> ', translations.text)\n",
        "    return translations.text\n",
        "#----------------------test----------------------\n",
        "translation_ar(\"t'es belle aujordhuit\")\n"
      ],
      "execution_count": 83,
      "outputs": [
        {
          "output_type": "stream",
          "text": [
            "t'es belle aujordhuit  ->  أنت جميلة اليوم\n"
          ],
          "name": "stdout"
        },
        {
          "output_type": "execute_result",
          "data": {
            "text/plain": [
              "'أنت جميلة اليوم'"
            ]
          },
          "metadata": {
            "tags": []
          },
          "execution_count": 83
        }
      ]
    },
    {
      "cell_type": "markdown",
      "metadata": {
        "id": "vzNy_nnsPojc",
        "colab_type": "text"
      },
      "source": [
        "##<b> 2 Traduction vers l'MSA et remplacement <b>"
      ]
    },
    {
      "cell_type": "code",
      "metadata": {
        "id": "-D51tGHQDjPY",
        "colab_type": "code",
        "colab": {}
      },
      "source": [
        "def replace_franc_with_arab(text):\n",
        "  tokens=word_tokenize(text)\n",
        "  sentence=''\n",
        "  result=[]\n",
        "  for indice in range(0,len(tokens)):\n",
        "    if(langdetect(tokens[indice]) == True and indice != len(tokens)-1 ):\n",
        "      if(sentence == ''):\n",
        "        sentence=tokens[indice]\n",
        "      else:\n",
        "        sentence=sentence+' '+tokens[indice]\n",
        "    if(langdetect(tokens[indice]) == True and indice == len(tokens)-1):\n",
        "      if(sentence == ''):\n",
        "        sentence=tokens[indice]\n",
        "      else:\n",
        "        sentence=sentence+' '+tokens[indice]\n",
        "      text_traduit=translation_ar(sentence)\n",
        "      result.append(text_traduit)\n",
        "      text_result=text.replace(sentence,text_traduit)\n",
        "    if(langdetect(tokens[indice]) == False):\n",
        "      if(sentence != ''):\n",
        "        text_traduit=translation_ar(sentence)\n",
        "        result.append(text_traduit)\n",
        "        text_result=text.replace(sentence,text_traduit)\n",
        "      sentence=''\n",
        "      pass\n",
        "\n",
        "    \n",
        "  return text_result"
      ],
      "execution_count": 0,
      "outputs": []
    },
    {
      "cell_type": "code",
      "metadata": {
        "id": "_3FekAksGZGk",
        "colab_type": "code",
        "outputId": "3da086a7-83dc-4116-a017-cd00eb07e85a",
        "colab": {
          "base_uri": "https://localhost:8080/",
          "height": 85
        }
      },
      "source": [
        "replace_franc_with_arab('suis suis maman ici suis laba suis')"
      ],
      "execution_count": 109,
      "outputs": [
        {
          "output_type": "stream",
          "text": [
            "suis suis  ->  صباحا صباحا\n",
            "suis  ->  صباحا\n",
            "suis  ->  صباحا\n"
          ],
          "name": "stdout"
        },
        {
          "output_type": "execute_result",
          "data": {
            "text/plain": [
              "'صباحا صباحا maman ici صباحا laba صباحا'"
            ]
          },
          "metadata": {
            "tags": []
          },
          "execution_count": 109
        }
      ]
    },
    {
      "cell_type": "markdown",
      "metadata": {
        "id": "7RUMhTasYoQP",
        "colab_type": "text"
      },
      "source": [
        "## ***`EXECUTION SUR DATASET WECH THESS -----------------------------------------------`***"
      ]
    },
    {
      "cell_type": "markdown",
      "metadata": {
        "id": "YaXWAjBAhljQ",
        "colab_type": "text"
      },
      "source": [
        "# IMPORT AND OPEN DATASET FROM MY DRIVE"
      ]
    },
    {
      "cell_type": "code",
      "metadata": {
        "id": "oAbap2epj05t",
        "colab_type": "code",
        "outputId": "b5c145ee-7c05-4ff7-ff53-d59ef46ca6c1",
        "colab": {
          "base_uri": "https://localhost:8080/",
          "height": 122
        }
      },
      "source": [
        "from google.colab import drive\n",
        "drive.mount('/content/drive')"
      ],
      "execution_count": 110,
      "outputs": [
        {
          "output_type": "stream",
          "text": [
            "Go to this URL in a browser: https://accounts.google.com/o/oauth2/auth?client_id=947318989803-6bn6qk8qdgf4n4g3pfee6491hc0brc4i.apps.googleusercontent.com&redirect_uri=urn%3aietf%3awg%3aoauth%3a2.0%3aoob&response_type=code&scope=email%20https%3a%2f%2fwww.googleapis.com%2fauth%2fdocs.test%20https%3a%2f%2fwww.googleapis.com%2fauth%2fdrive%20https%3a%2f%2fwww.googleapis.com%2fauth%2fdrive.photos.readonly%20https%3a%2f%2fwww.googleapis.com%2fauth%2fpeopleapi.readonly\n",
            "\n",
            "Enter your authorization code:\n",
            "··········\n",
            "Mounted at /content/drive\n"
          ],
          "name": "stdout"
        }
      ]
    },
    {
      "cell_type": "code",
      "metadata": {
        "id": "32bt-dMD6F6I",
        "colab_type": "code",
        "outputId": "ec17ebad-1028-4a9a-bb0e-c24f07205f48",
        "colab": {
          "base_uri": "https://localhost:8080/",
          "height": 34
        }
      },
      "source": [
        "def open_pickle(path):\n",
        "    with open(path, 'rb') as handle: \n",
        "        doc= pickle.load(handle)\n",
        "    return doc\n",
        "\n",
        "def save_pickle(variable,filename):\n",
        "    with open(filename, 'wb') as handle:\n",
        "         pickle.dump(variable, handle, protocol=pickle.HIGHEST_PROTOCOL)\n",
        "chemin=\"/content/drive/My Drive/PROJET FIN ETUDE 2019 2020/dataset/wech_thess/wch_thess.pickle\"\n",
        "dataset=open_pickle(chemin) \n",
        "\n",
        "print(dataset['comment'][45],\" polarity::\",dataset['polarity'][45])"
      ],
      "execution_count": 111,
      "outputs": [
        {
          "output_type": "stream",
          "text": [
            "لا مجرد ارقام  polarity:: -1\n"
          ],
          "name": "stdout"
        }
      ]
    },
    {
      "cell_type": "code",
      "metadata": {
        "id": "knaT1J4oNUiB",
        "colab_type": "code",
        "outputId": "db14bb30-7041-454b-e740-2f99bc4ff6df",
        "colab": {
          "base_uri": "https://localhost:8080/",
          "height": 187
        }
      },
      "source": [
        "print(len(dataset['comment']))\n",
        "\n",
        "#avoir des information sur les attribues\n",
        "dataset.info()"
      ],
      "execution_count": 114,
      "outputs": [
        {
          "output_type": "stream",
          "text": [
            "12111\n",
            "<class 'pandas.core.frame.DataFrame'>\n",
            "RangeIndex: 12111 entries, 0 to 12110\n",
            "Data columns (total 4 columns):\n",
            "id_comment    12111 non-null object\n",
            "comment       12111 non-null object\n",
            "id_post       12111 non-null object\n",
            "polarity      12111 non-null int64\n",
            "dtypes: int64(1), object(3)\n",
            "memory usage: 378.6+ KB\n"
          ],
          "name": "stdout"
        }
      ]
    },
    {
      "cell_type": "code",
      "metadata": {
        "id": "qvS6aB2UYxlz",
        "colab_type": "code",
        "outputId": "496c1cf2-b21c-43bf-b75a-3fd32837e9af",
        "colab": {
          "base_uri": "https://localhost:8080/",
          "height": 231
        }
      },
      "source": [
        "liste_comment=[]\n",
        "liste_polarity=[]\n",
        "for indice  in range(0,50): #len(df['comment']\n",
        "    text=str(dataset['comment'][indice])\n",
        "    text1=romve_urls(text)\n",
        "    text2=remove_tags(text1)\n",
        "    text3=remove_hashtag(text2)\n",
        "    text4=remove_repeating_char(text3)\n",
        "    text5=remove_ponctuation_imogi(text4)\n",
        "    text6=remove_numbers(text5)\n",
        "    text7=remove_short(text6)\n",
        "    toknize=tokenization(text7)\n",
        "    without_stop_word=remove_stop_words(toknize)\n",
        "    liste_comment.append(without_stop_word)\n",
        "    liste_polarity.append(dataset['polarity'][indice])\n",
        "    df['comment'][indice]=without_stop_word\n",
        "print('BEFORE: ',text,\"\\n\",\"AFTER:\",without_stop_word,\"\\n\\n\")"
      ],
      "execution_count": 115,
      "outputs": [
        {
          "output_type": "error",
          "ename": "NameError",
          "evalue": "ignored",
          "traceback": [
            "\u001b[0;31m---------------------------------------------------------------------------\u001b[0m",
            "\u001b[0;31mNameError\u001b[0m                                 Traceback (most recent call last)",
            "\u001b[0;32m<ipython-input-115-7e2935443e29>\u001b[0m in \u001b[0;36m<module>\u001b[0;34m()\u001b[0m\n\u001b[1;32m      3\u001b[0m \u001b[0;32mfor\u001b[0m \u001b[0mindice\u001b[0m  \u001b[0;32min\u001b[0m \u001b[0mrange\u001b[0m\u001b[0;34m(\u001b[0m\u001b[0;36m0\u001b[0m\u001b[0;34m,\u001b[0m\u001b[0;36m50\u001b[0m\u001b[0;34m)\u001b[0m\u001b[0;34m:\u001b[0m \u001b[0;31m#len(df['comment']\u001b[0m\u001b[0;34m\u001b[0m\u001b[0;34m\u001b[0m\u001b[0m\n\u001b[1;32m      4\u001b[0m     \u001b[0mtext\u001b[0m\u001b[0;34m=\u001b[0m\u001b[0mstr\u001b[0m\u001b[0;34m(\u001b[0m\u001b[0mdataset\u001b[0m\u001b[0;34m[\u001b[0m\u001b[0;34m'comment'\u001b[0m\u001b[0;34m]\u001b[0m\u001b[0;34m[\u001b[0m\u001b[0mindice\u001b[0m\u001b[0;34m]\u001b[0m\u001b[0;34m)\u001b[0m\u001b[0;34m\u001b[0m\u001b[0;34m\u001b[0m\u001b[0m\n\u001b[0;32m----> 5\u001b[0;31m     \u001b[0mtext1\u001b[0m\u001b[0;34m=\u001b[0m\u001b[0mromve_urls\u001b[0m\u001b[0;34m(\u001b[0m\u001b[0mtext\u001b[0m\u001b[0;34m)\u001b[0m\u001b[0;34m\u001b[0m\u001b[0;34m\u001b[0m\u001b[0m\n\u001b[0m\u001b[1;32m      6\u001b[0m     \u001b[0mtext2\u001b[0m\u001b[0;34m=\u001b[0m\u001b[0mremove_tags\u001b[0m\u001b[0;34m(\u001b[0m\u001b[0mtext1\u001b[0m\u001b[0;34m)\u001b[0m\u001b[0;34m\u001b[0m\u001b[0;34m\u001b[0m\u001b[0m\n\u001b[1;32m      7\u001b[0m     \u001b[0mtext3\u001b[0m\u001b[0;34m=\u001b[0m\u001b[0mremove_hashtag\u001b[0m\u001b[0;34m(\u001b[0m\u001b[0mtext2\u001b[0m\u001b[0;34m)\u001b[0m\u001b[0;34m\u001b[0m\u001b[0;34m\u001b[0m\u001b[0m\n",
            "\u001b[0;31mNameError\u001b[0m: name 'romve_urls' is not defined"
          ]
        }
      ]
    },
    {
      "cell_type": "code",
      "metadata": {
        "id": "2W5DbVYA1xa1",
        "colab_type": "code",
        "outputId": "b0981a12-449b-4dd5-ac38-bd31433df0b6",
        "colab": {
          "base_uri": "https://localhost:8080/",
          "height": 1000
        }
      },
      "source": [
        "result=pd.DataFrame(list(zip(liste_comment, liste_polarity)), columns =['comment', 'polarity'])\n",
        "result"
      ],
      "execution_count": 0,
      "outputs": [
        {
          "output_type": "execute_result",
          "data": {
            "text/html": [
              "<div>\n",
              "<style scoped>\n",
              "    .dataframe tbody tr th:only-of-type {\n",
              "        vertical-align: middle;\n",
              "    }\n",
              "\n",
              "    .dataframe tbody tr th {\n",
              "        vertical-align: top;\n",
              "    }\n",
              "\n",
              "    .dataframe thead th {\n",
              "        text-align: right;\n",
              "    }\n",
              "</style>\n",
              "<table border=\"1\" class=\"dataframe\">\n",
              "  <thead>\n",
              "    <tr style=\"text-align: right;\">\n",
              "      <th></th>\n",
              "      <th>comment</th>\n",
              "      <th>polarity</th>\n",
              "    </tr>\n",
              "  </thead>\n",
              "  <tbody>\n",
              "    <tr>\n",
              "      <th>0</th>\n",
              "      <td>[الانوار, سيدتي]</td>\n",
              "      <td>1</td>\n",
              "    </tr>\n",
              "    <tr>\n",
              "      <th>1</th>\n",
              "      <td>[الحلا, يا, غالية]</td>\n",
              "      <td>1</td>\n",
              "    </tr>\n",
              "    <tr>\n",
              "      <th>2</th>\n",
              "      <td>[عليك, الود]</td>\n",
              "      <td>1</td>\n",
              "    </tr>\n",
              "    <tr>\n",
              "      <th>3</th>\n",
              "      <td>[sabah, elward]</td>\n",
              "      <td>1</td>\n",
              "    </tr>\n",
              "    <tr>\n",
              "      <th>4</th>\n",
              "      <td>[رائع, عسل, كلامك, وصباحك]</td>\n",
              "      <td>1</td>\n",
              "    </tr>\n",
              "    <tr>\n",
              "      <th>5</th>\n",
              "      <td>[nice, ahlam]</td>\n",
              "      <td>1</td>\n",
              "    </tr>\n",
              "    <tr>\n",
              "      <th>6</th>\n",
              "      <td>[الخيرات, أحلام, أستاذة]</td>\n",
              "      <td>1</td>\n",
              "    </tr>\n",
              "    <tr>\n",
              "      <th>7</th>\n",
              "      <td>[لوحة, رائعة]</td>\n",
              "      <td>1</td>\n",
              "    </tr>\n",
              "    <tr>\n",
              "      <th>8</th>\n",
              "      <td>[شكرا, النصيحة, أحلام]</td>\n",
              "      <td>1</td>\n",
              "    </tr>\n",
              "    <tr>\n",
              "      <th>9</th>\n",
              "      <td>[محلاه, هالكلام]</td>\n",
              "      <td>1</td>\n",
              "    </tr>\n",
              "    <tr>\n",
              "      <th>10</th>\n",
              "      <td>[شكراً]</td>\n",
              "      <td>1</td>\n",
              "    </tr>\n",
              "    <tr>\n",
              "      <th>11</th>\n",
              "      <td>[شكـرآ]</td>\n",
              "      <td>1</td>\n",
              "    </tr>\n",
              "    <tr>\n",
              "      <th>12</th>\n",
              "      <td>[فيتكاثر, يعانق, أحلام, الأمل, حرفك, الحب, مست...</td>\n",
              "      <td>1</td>\n",
              "    </tr>\n",
              "    <tr>\n",
              "      <th>13</th>\n",
              "      <td>[بالصبا, تحياتي, والشباب, يفيض, قلبك]</td>\n",
              "      <td>1</td>\n",
              "    </tr>\n",
              "    <tr>\n",
              "      <th>14</th>\n",
              "      <td>[alah, beautiful, thank, much, masha]</td>\n",
              "      <td>1</td>\n",
              "    </tr>\n",
              "    <tr>\n",
              "      <th>15</th>\n",
              "      <td>[alkhatib, اعشقها, mena]</td>\n",
              "      <td>1</td>\n",
              "    </tr>\n",
              "    <tr>\n",
              "      <th>16</th>\n",
              "      <td>[النصيحة, شكرا, القيمة]</td>\n",
              "      <td>1</td>\n",
              "    </tr>\n",
              "    <tr>\n",
              "      <th>17</th>\n",
              "      <td>[veux, hada, kima, agenda]</td>\n",
              "      <td>1</td>\n",
              "    </tr>\n",
              "    <tr>\n",
              "      <th>18</th>\n",
              "      <td>[juste]</td>\n",
              "      <td>1</td>\n",
              "    </tr>\n",
              "    <tr>\n",
              "      <th>19</th>\n",
              "      <td>[حبوبة, بروعتك, روعة]</td>\n",
              "      <td>1</td>\n",
              "    </tr>\n",
              "    <tr>\n",
              "      <th>20</th>\n",
              "      <td>[كلمات, منتهى, الروعه]</td>\n",
              "      <td>1</td>\n",
              "    </tr>\n",
              "    <tr>\n",
              "      <th>21</th>\n",
              "      <td>[تفاؤل, أهو, randa, gamal, حبة]</td>\n",
              "      <td>1</td>\n",
              "    </tr>\n",
              "    <tr>\n",
              "      <th>22</th>\n",
              "      <td>[يارب]</td>\n",
              "      <td>1</td>\n",
              "    </tr>\n",
              "    <tr>\n",
              "      <th>23</th>\n",
              "      <td>[best, decided, feling, make, everyday, life, ...</td>\n",
              "      <td>1</td>\n",
              "    </tr>\n",
              "    <tr>\n",
              "      <th>24</th>\n",
              "      <td>[حياة, كلامك, رائعة]</td>\n",
              "      <td>1</td>\n",
              "    </tr>\n",
              "    <tr>\n",
              "      <th>25</th>\n",
              "      <td>[جداً, جميل, شكراً]</td>\n",
              "      <td>1</td>\n",
              "    </tr>\n",
              "    <tr>\n",
              "      <th>26</th>\n",
              "      <td>[متل, بحبك, ذاكرة, كتير, مخيفة, بتمنالك, الجسد...</td>\n",
              "      <td>1</td>\n",
              "    </tr>\n",
              "    <tr>\n",
              "      <th>27</th>\n",
              "      <td>[sah]</td>\n",
              "      <td>1</td>\n",
              "    </tr>\n",
              "    <tr>\n",
              "      <th>28</th>\n",
              "      <td>[متل, ايامك, وادة, x08انشاله, اله, يخليه, بيضة...</td>\n",
              "      <td>1</td>\n",
              "    </tr>\n",
              "    <tr>\n",
              "      <th>29</th>\n",
              "      <td>[جميل]</td>\n",
              "      <td>1</td>\n",
              "    </tr>\n",
              "    <tr>\n",
              "      <th>30</th>\n",
              "      <td>[رائعة]</td>\n",
              "      <td>1</td>\n",
              "    </tr>\n",
              "    <tr>\n",
              "      <th>31</th>\n",
              "      <td>[الحياة, حلوة]</td>\n",
              "      <td>1</td>\n",
              "    </tr>\n",
              "    <tr>\n",
              "      <th>32</th>\n",
              "      <td>[كلام, جميل،]</td>\n",
              "      <td>1</td>\n",
              "    </tr>\n",
              "    <tr>\n",
              "      <th>33</th>\n",
              "      <td>[جميل, نبراس]</td>\n",
              "      <td>1</td>\n",
              "    </tr>\n",
              "    <tr>\n",
              "      <th>34</th>\n",
              "      <td>[أحلى, كلام]</td>\n",
              "      <td>1</td>\n",
              "    </tr>\n",
              "    <tr>\n",
              "      <th>35</th>\n",
              "      <td>[kalimet, ysalem, ketbou, elkarar, dayetek, el...</td>\n",
              "      <td>1</td>\n",
              "    </tr>\n",
              "    <tr>\n",
              "      <th>36</th>\n",
              "      <td>[نحن, والتفائل, إلى, بركة, منسجمة, الحياة, ومت...</td>\n",
              "      <td>1</td>\n",
              "    </tr>\n",
              "    <tr>\n",
              "      <th>37</th>\n",
              "      <td>[ارقى, ريو, بعزفها, وابدع, ماسمعت, بعده, اندريه]</td>\n",
              "      <td>1</td>\n",
              "    </tr>\n",
              "    <tr>\n",
              "      <th>38</th>\n",
              "      <td>[الأسود, يليق, بك]</td>\n",
              "      <td>1</td>\n",
              "    </tr>\n",
              "    <tr>\n",
              "      <th>39</th>\n",
              "      <td>[مكابرة, كفى, قم, لصلاة]</td>\n",
              "      <td>1</td>\n",
              "    </tr>\n",
              "    <tr>\n",
              "      <th>40</th>\n",
              "      <td>[الطلال, نحن, رقم, اختصار, شكرا, سيدتي, نخرج, ...</td>\n",
              "      <td>1</td>\n",
              "    </tr>\n",
              "    <tr>\n",
              "      <th>41</th>\n",
              "      <td>[نحن, رقم, نحفظ, شكرا, نحترم, سيدتي, نكون, نغل...</td>\n",
              "      <td>1</td>\n",
              "    </tr>\n",
              "    <tr>\n",
              "      <th>42</th>\n",
              "      <td>[قائمة, تخيلت, رقم, لم, فتلك, جديد, حياتي, أكو...</td>\n",
              "      <td>-1</td>\n",
              "    </tr>\n",
              "    <tr>\n",
              "      <th>43</th>\n",
              "      <td>[والكلمات, والفل, الراقية, والياسمين, ملكة, ال...</td>\n",
              "      <td>1</td>\n",
              "    </tr>\n",
              "    <tr>\n",
              "      <th>44</th>\n",
              "      <td>[واصبحت, بنا, وتيرتها, هدوء, الكريه, والغدر, و...</td>\n",
              "      <td>-1</td>\n",
              "    </tr>\n",
              "    <tr>\n",
              "      <th>45</th>\n",
              "      <td>[مجرد, لا, ارقام]</td>\n",
              "      <td>-1</td>\n",
              "    </tr>\n",
              "    <tr>\n",
              "      <th>46</th>\n",
              "      <td>[اﻻنوار]</td>\n",
              "      <td>1</td>\n",
              "    </tr>\n",
              "    <tr>\n",
              "      <th>47</th>\n",
              "      <td>[الخير, سيدتي, شكراً, ولجميع]</td>\n",
              "      <td>1</td>\n",
              "    </tr>\n",
              "    <tr>\n",
              "      <th>48</th>\n",
              "      <td>[ya, ward, sokar]</td>\n",
              "      <td>1</td>\n",
              "    </tr>\n",
              "    <tr>\n",
              "      <th>49</th>\n",
              "      <td>[لا, اله, الايام, عمرنا, بدون, نشعر, يذوي, تسا...</td>\n",
              "      <td>1</td>\n",
              "    </tr>\n",
              "  </tbody>\n",
              "</table>\n",
              "</div>"
            ],
            "text/plain": [
              "                                              comment  polarity\n",
              "0                                    [الانوار, سيدتي]         1\n",
              "1                                  [الحلا, يا, غالية]         1\n",
              "2                                        [عليك, الود]         1\n",
              "3                                     [sabah, elward]         1\n",
              "4                          [رائع, عسل, كلامك, وصباحك]         1\n",
              "5                                       [nice, ahlam]         1\n",
              "6                            [الخيرات, أحلام, أستاذة]         1\n",
              "7                                       [لوحة, رائعة]         1\n",
              "8                              [شكرا, النصيحة, أحلام]         1\n",
              "9                                    [محلاه, هالكلام]         1\n",
              "10                                            [شكراً]         1\n",
              "11                                            [شكـرآ]         1\n",
              "12  [فيتكاثر, يعانق, أحلام, الأمل, حرفك, الحب, مست...         1\n",
              "13              [بالصبا, تحياتي, والشباب, يفيض, قلبك]         1\n",
              "14              [alah, beautiful, thank, much, masha]         1\n",
              "15                           [alkhatib, اعشقها, mena]         1\n",
              "16                            [النصيحة, شكرا, القيمة]         1\n",
              "17                         [veux, hada, kima, agenda]         1\n",
              "18                                            [juste]         1\n",
              "19                              [حبوبة, بروعتك, روعة]         1\n",
              "20                             [كلمات, منتهى, الروعه]         1\n",
              "21                    [تفاؤل, أهو, randa, gamal, حبة]         1\n",
              "22                                             [يارب]         1\n",
              "23  [best, decided, feling, make, everyday, life, ...         1\n",
              "24                               [حياة, كلامك, رائعة]         1\n",
              "25                                [جداً, جميل, شكراً]         1\n",
              "26  [متل, بحبك, ذاكرة, كتير, مخيفة, بتمنالك, الجسد...         1\n",
              "27                                              [sah]         1\n",
              "28  [متل, ايامك, وادة, x08انشاله, اله, يخليه, بيضة...         1\n",
              "29                                             [جميل]         1\n",
              "30                                            [رائعة]         1\n",
              "31                                     [الحياة, حلوة]         1\n",
              "32                                      [كلام, جميل،]         1\n",
              "33                                      [جميل, نبراس]         1\n",
              "34                                       [أحلى, كلام]         1\n",
              "35  [kalimet, ysalem, ketbou, elkarar, dayetek, el...         1\n",
              "36  [نحن, والتفائل, إلى, بركة, منسجمة, الحياة, ومت...         1\n",
              "37   [ارقى, ريو, بعزفها, وابدع, ماسمعت, بعده, اندريه]         1\n",
              "38                                 [الأسود, يليق, بك]         1\n",
              "39                           [مكابرة, كفى, قم, لصلاة]         1\n",
              "40  [الطلال, نحن, رقم, اختصار, شكرا, سيدتي, نخرج, ...         1\n",
              "41  [نحن, رقم, نحفظ, شكرا, نحترم, سيدتي, نكون, نغل...         1\n",
              "42  [قائمة, تخيلت, رقم, لم, فتلك, جديد, حياتي, أكو...        -1\n",
              "43  [والكلمات, والفل, الراقية, والياسمين, ملكة, ال...         1\n",
              "44  [واصبحت, بنا, وتيرتها, هدوء, الكريه, والغدر, و...        -1\n",
              "45                                  [مجرد, لا, ارقام]        -1\n",
              "46                                           [اﻻنوار]         1\n",
              "47                      [الخير, سيدتي, شكراً, ولجميع]         1\n",
              "48                                  [ya, ward, sokar]         1\n",
              "49  [لا, اله, الايام, عمرنا, بدون, نشعر, يذوي, تسا...         1"
            ]
          },
          "metadata": {
            "tags": []
          },
          "execution_count": 61
        }
      ]
    },
    {
      "cell_type": "code",
      "metadata": {
        "id": "Tp0lCmLAYn8z",
        "colab_type": "code",
        "outputId": "916f45a2-dcfc-4bd1-8340-f316dce4e39b",
        "colab": {
          "base_uri": "https://localhost:8080/",
          "height": 513
        }
      },
      "source": [
        "print(\"ORIGINAL :: \\n \",text,\"\\n\\n\")\n",
        "print(\"remove urls =>   \",text1,\"\\n\\n\")\n",
        "print(\"remove tags =>  \",text2,\"\\n\\n\")\n",
        "print(\"remove hashtag => \",text3,\"\\n\\n\")\n",
        "print(\"remove repetition caracteres => \",text4,\"\\n\\n\")\n",
        "print(\"remove ponctuation => \",text5,\"\\n\\n\")\n",
        "print(\"remove repeat_numbers => \",text6,\"\\n\\n\")\n",
        "print(\"tocknization =>\",toknize,\"\\n\\n\")\n",
        "print(\"\\t------------------------------------------------ final comments --------------------------------------\\n\")\n",
        "print(without_stop_word)"
      ],
      "execution_count": 0,
      "outputs": [
        {
          "output_type": "stream",
          "text": [
            "ORIGINAL :: \n",
            "  عندما تكون نقياً من الداخل، يمنحك الله نوراً من حيث لا تعلم، يحبك الناس من حيث لا تعلم، و تأتيك مطالبك من حيث لا تعلم، \n",
            "\n",
            "\n",
            "remove urls =>    عندما تكون نقياً من الداخل، يمنحك الله نوراً من حيث لا تعلم، يحبك الناس من حيث لا تعلم، و تأتيك مطالبك من حيث لا تعلم، \n",
            "\n",
            "\n",
            "remove tags =>   عندما تكون نقياً من الداخل، يمنحك الله نوراً من حيث لا تعلم، يحبك الناس من حيث لا تعلم، و تأتيك مطالبك من حيث لا تعلم، \n",
            "\n",
            "\n",
            "remove hashtag =>  عندما تكون نقياً من الداخل، يمنحك الله نوراً من حيث لا تعلم، يحبك الناس من حيث لا تعلم، و تأتيك مطالبك من حيث لا تعلم، \n",
            "\n",
            "\n",
            "remove repetition caracteres =>  عندما تكون نقياً من الداخل، يمنحك اله نوراً من حيث لا تعلم، يحبك الناس من حيث لا تعلم، و تأتيك مطالبك من حيث لا تعلم، \n",
            "\n",
            "\n",
            "remove ponctuation =>  عندما تكون نقياً من الداخل، يمنحك اله نوراً من حيث لا تعلم، يحبك الناس من حيث لا تعلم، و تأتيك مطالبك من حيث لا تعلم، \n",
            "\n",
            "\n",
            "remove repeat_numbers =>  عندما تكون نقياً من الداخل، يمنحك اله نوراً من حيث لا تعلم، يحبك الناس من حيث لا تعلم، و تأتيك مطالبك من حيث لا تعلم، \n",
            "\n",
            "\n",
            "tocknization => {'الداخل،', 'نوراً', 'نقياً', 'يحبك', 'و', 'تأتيك', 'اله', 'الناس', 'مطالبك', 'حيث', 'تعلم،', 'تكون', 'لا', 'عندما', 'من', 'يمنحك'} \n",
            "\n",
            "\n",
            "\t------------------------------------------------ final comments --------------------------------------\n",
            "\n",
            "['الداخل،', 'نوراً', 'نقياً', 'يحبك', 'تأتيك', 'اله', 'الناس', 'مطالبك', 'تعلم،', 'تكون', 'لا', 'يمنحك']\n"
          ],
          "name": "stdout"
        }
      ]
    },
    {
      "cell_type": "code",
      "metadata": {
        "id": "Qb6mkWjWkoGu",
        "colab_type": "code",
        "colab": {}
      },
      "source": [
        ""
      ],
      "execution_count": 0,
      "outputs": []
    },
    {
      "cell_type": "code",
      "metadata": {
        "id": "ft2X0Sp93Ubw",
        "colab_type": "code",
        "outputId": "6e83d045-abbd-4733-9160-d34e1405e4e9",
        "colab": {
          "base_uri": "https://localhost:8080/",
          "height": 102
        }
      },
      "source": [
        "def traduire_chaine(chaine):\n",
        "  result=[]\n",
        "  filtered_sentence=[]\n",
        "  i=0\n",
        "  for w in chaine:\n",
        "    if(detect_lang(w)== True and i<len(chaine) ):\n",
        "       filtered_sentence.append(w)\n",
        "\n",
        "    else:\n",
        "       print(\"heeeeeeere\",filtered_sentence)\n",
        "       sentence=''\n",
        "       for w in filtered_sentence:\n",
        "         sentence=sentence+' '+w\n",
        "         result.append(sentence)\n",
        "         filtered_sentence=[]\n",
        "       i=i+1\n",
        "  \n",
        "  return result\n",
        "\n",
        "print(traduire_chaine(['maman','reste','alkhatib',' اعشقها','soeur']\t))\n",
        "translation_ar(\"t'es belle aujordhuit\")\n"
      ],
      "execution_count": 0,
      "outputs": [
        {
          "output_type": "stream",
          "text": [
            "heeeeeeere ['maman', 'reste']\n",
            "heeeeeeere []\n",
            "[' maman', ' maman reste']\n",
            "t'es belle aujordhuit  ->  أنت جميلة اليوم\n"
          ],
          "name": "stdout"
        },
        {
          "output_type": "execute_result",
          "data": {
            "text/plain": [
              "'أنت جميلة اليوم'"
            ]
          },
          "metadata": {
            "tags": []
          },
          "execution_count": 61
        }
      ]
    },
    {
      "cell_type": "code",
      "metadata": {
        "id": "vsGRWlaRBkXl",
        "colab_type": "code",
        "colab": {}
      },
      "source": [
        "def traduire_chaine(chaine):\n",
        "  result=[]\n",
        "  filtered_sentence=[]\n",
        "  i=0\n",
        "  j=0\n",
        "  while i<len(chaine):\n",
        "    if(detect_lang(chaine[i])== True ):\n",
        "      j=i\n",
        "      i=i+1\n",
        "      while (detect_lang(w)== True ):\n",
        "       \n",
        "       filtered_sentence.append(w)\n",
        "\n",
        "    else:\n",
        "       print(\"heeeeeeere\",filtered_sentence)\n",
        "       sentence=''\n",
        "       for w in filtered_sentence:\n",
        "         sentence=sentence+' '+w\n",
        "         result.append(sentence)\n",
        "         filtered_sentence=[]\n",
        "       i=i+1\n",
        "  \n",
        "  return result\n",
        "\n",
        "print(traduire_chaine(['maman','reste','alkhatib',' اعشقها','soeur']\t))\n",
        "translation_ar(\"t'es belle aujordhuit\")\n"
      ],
      "execution_count": 0,
      "outputs": []
    },
    {
      "cell_type": "markdown",
      "metadata": {
        "id": "3-_xrL2lQy7V",
        "colab_type": "text"
      },
      "source": [
        "##<b> 3 Groupement Phonitique pour les Arabizi restant<b>"
      ]
    },
    {
      "cell_type": "code",
      "metadata": {
        "id": "KcxkfgfpTxW9",
        "colab_type": "code",
        "outputId": "ee7f4a31-d9db-406c-dab1-3160c9525798",
        "colab": {
          "base_uri": "https://localhost:8080/",
          "height": 34
        }
      },
      "source": [
        "liste=[]\n",
        "for  w in ['manel','kahina','hassina']:\n",
        "  liste.append(w)\n",
        "\n",
        "liste"
      ],
      "execution_count": 0,
      "outputs": [
        {
          "output_type": "execute_result",
          "data": {
            "text/plain": [
              "['manel', 'kahina', 'hassina']"
            ]
          },
          "metadata": {
            "tags": []
          },
          "execution_count": 50
        }
      ]
    },
    {
      "cell_type": "markdown",
      "metadata": {
        "id": "B7GZX-qQQlAt",
        "colab_type": "text"
      },
      "source": [
        "##<b> 4 Translatération des Mots Arabizi<b>"
      ]
    },
    {
      "cell_type": "code",
      "metadata": {
        "id": "5b3rOSgjRb1v",
        "colab_type": "code",
        "colab": {}
      },
      "source": [
        ""
      ],
      "execution_count": 0,
      "outputs": []
    },
    {
      "cell_type": "markdown",
      "metadata": {
        "id": "x_UFtsmWRbKl",
        "colab_type": "text"
      },
      "source": [
        "#<b> II) Traitement de la langue ARABE<b>"
      ]
    },
    {
      "cell_type": "markdown",
      "metadata": {
        "id": "Mp5vm9YJSkYE",
        "colab_type": "text"
      },
      "source": [
        "##<b> 1 Suppression du Diactritics y compris el chadda<b>"
      ]
    },
    {
      "cell_type": "code",
      "metadata": {
        "id": "X6y1XZD5kyap",
        "colab_type": "code",
        "outputId": "d6e68418-78f3-44c7-b29c-7ac599f8f35b",
        "colab": {
          "base_uri": "https://localhost:8080/",
          "height": 51
        }
      },
      "source": [
        "!pip install -q pyarabic"
      ],
      "execution_count": 0,
      "outputs": [
        {
          "output_type": "stream",
          "text": [
            "\u001b[?25l\r\u001b[K     |███▎                            | 10kB 24.0MB/s eta 0:00:01\r\u001b[K     |██████▌                         | 20kB 2.3MB/s eta 0:00:01\r\u001b[K     |█████████▊                      | 30kB 3.3MB/s eta 0:00:01\r\u001b[K     |█████████████                   | 40kB 2.1MB/s eta 0:00:01\r\u001b[K     |████████████████▏               | 51kB 2.6MB/s eta 0:00:01\r\u001b[K     |███████████████████▍            | 61kB 3.1MB/s eta 0:00:01\r\u001b[K     |██████████████████████▋         | 71kB 3.6MB/s eta 0:00:01\r\u001b[K     |█████████████████████████▉      | 81kB 4.1MB/s eta 0:00:01\r\u001b[K     |█████████████████████████████   | 92kB 4.6MB/s eta 0:00:01\r\u001b[K     |████████████████████████████████| 102kB 2.7MB/s \n",
            "\u001b[?25h  Building wheel for pyarabic (setup.py) ... \u001b[?25l\u001b[?25hdone\n"
          ],
          "name": "stdout"
        }
      ]
    },
    {
      "cell_type": "code",
      "metadata": {
        "id": "1U0g_An7StqY",
        "colab_type": "code",
        "outputId": "a62503d1-dcce-4079-ca2b-623ffe874397",
        "colab": {
          "base_uri": "https://localhost:8080/",
          "height": 54
        }
      },
      "source": [
        "\n",
        "from pyarabic.araby import strip_tashkeel\n",
        "def normalize_tachkil(text):\n",
        "  return  [strip_tashkeel(w) for w in text]\n",
        "\n",
        "#***********************************Test*************************\n",
        "\n",
        "good= normalize_tachkil(good_words)\n",
        "print(good)\n"
      ],
      "execution_count": 0,
      "outputs": [
        {
          "output_type": "stream",
          "text": [
            "['__', 'العـربية', 'john', 'العربية', '*person', '!', '!', '!', '!', 'takes', '?', '?', '?', '?', '?', '?', '?', 'ya7i8', '7b', 'العـربية', 'حعف', 'care', 'alors', 'non', 'people', 'around', 'ا', '3لغة', 'العربية', 'لغة', 'غنية', 'معقدة', 'يستخدمها', 'أكثر', '__', 'متحدث', 'العالم']\n"
          ],
          "name": "stdout"
        }
      ]
    },
    {
      "cell_type": "markdown",
      "metadata": {
        "id": "rTCPz0gYSugg",
        "colab_type": "text"
      },
      "source": [
        "##<b> 2 Suppression de l'alongation<b>"
      ]
    },
    {
      "cell_type": "code",
      "metadata": {
        "id": "QdxMU9QDTmqY",
        "colab_type": "code",
        "outputId": "336b715a-b22f-4e9b-98fd-9541a3935352",
        "colab": {
          "base_uri": "https://localhost:8080/",
          "height": 54
        }
      },
      "source": [
        "from pyarabic.araby import strip_tatweel, strip_shadda\n",
        "def sup_allongation(text):\n",
        "  return  [strip_tatweel(w) for w in text]\n",
        "\n",
        "#***********************************Test*************************\n",
        "\n",
        "nice= sup_allongation(good)\n",
        "print(nice)"
      ],
      "execution_count": 0,
      "outputs": [
        {
          "output_type": "stream",
          "text": [
            "['__', 'العربية', 'john', 'العربية', '*person', '!', '!', '!', '!', 'takes', '?', '?', '?', '?', '?', '?', '?', 'ya7i8', '7b', 'العربية', 'حعف', 'care', 'alors', 'non', 'people', 'around', 'ا', '3لغة', 'العربية', 'لغة', 'غنية', 'معقدة', 'يستخدمها', 'أكثر', '__', 'متحدث', 'العالم']\n"
          ],
          "name": "stdout"
        }
      ]
    },
    {
      "cell_type": "markdown",
      "metadata": {
        "id": "yC3LdI9pTpO6",
        "colab_type": "text"
      },
      "source": [
        "#<b> 3 Normalisation du text arabe<b> voir s'il manque une lettre a normalisé"
      ]
    },
    {
      "cell_type": "code",
      "metadata": {
        "id": "HLFzkMp1Tvec",
        "colab_type": "code",
        "outputId": "adfcc0a5-53de-4cf3-99bb-d1651997b559",
        "colab": {
          "base_uri": "https://localhost:8080/",
          "height": 54
        }
      },
      "source": [
        "def normalize(text):\n",
        "    text = re.sub(\"[إأآا]\", \"ا\", text)\n",
        "    text = re.sub(\"ى\", \"ي\", text)\n",
        "    text = re.sub(\"ؤ\", \"ء\", text)\n",
        "    text = re.sub(\"ئ\", \"ء\", text)\n",
        "    text = re.sub(\"ة\", \"ه\", text)\n",
        "    text = re.sub(\"گ\", \"ك\", text)\n",
        "    return text\n",
        "def normalize_arabic(text):\n",
        "  return  [normalize(w) for w in text]\n",
        "\n",
        "#***********************************Test*************************\n",
        "\n",
        "better= normalize_arabic(nice)\n",
        "print(better)"
      ],
      "execution_count": 0,
      "outputs": [
        {
          "output_type": "stream",
          "text": [
            "['__', 'العربيه', 'john', 'العربيه', '*person', '!', '!', '!', '!', 'takes', '?', '?', '?', '?', '?', '?', '?', 'ya7i8', '7b', 'العربيه', 'حعف', 'care', 'alors', 'non', 'people', 'around', 'ا', '3لغه', 'العربيه', 'لغه', 'غنيه', 'معقده', 'يستخدمها', 'اكثر', '__', 'متحدث', 'العالم']\n"
          ],
          "name": "stdout"
        }
      ]
    },
    {
      "cell_type": "code",
      "metadata": {
        "id": "noYh5SWQlgLy",
        "colab_type": "code",
        "colab": {}
      },
      "source": [
        ""
      ],
      "execution_count": 0,
      "outputs": []
    }
  ]
}